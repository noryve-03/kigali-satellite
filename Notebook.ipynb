{
  "cells": [
    {
      "cell_type": "code",
      "execution_count": null,
      "metadata": {
        "colab": {
          "base_uri": "https://localhost:8080/"
        },
        "id": "1Y0uXpua8W5c",
        "outputId": "861009b0-c6ac-4f4b-f2f4-8ee6432bd3a0"
      },
      "outputs": [
        {
          "output_type": "stream",
          "name": "stdout",
          "text": [
            "Drive already mounted at /content/gdrive; to attempt to forcibly remount, call drive.mount(\"/content/gdrive\", force_remount=True).\n"
          ]
        }
      ],
      "source": [
        "from google.colab import drive\n",
        "\n",
        "drive.mount('/content/gdrive')"
      ]
    },
    {
      "cell_type": "code",
      "execution_count": null,
      "metadata": {
        "id": "hCBFYBA08jBI"
      },
      "outputs": [],
      "source": [
        "import cv2\n",
        "from sklearn.cluster import KMeans\n",
        "import skimage\n",
        "import pandas as pd\n",
        "import numpy as np\n",
        "import matplotlib.pyplot as plt\n",
        "plt.rcParams.update({'font.size': 9})\n",
        "import matplotlib.gridspec as gridspec\n",
        "from os import listdir, mkdir\n",
        "from os.path import isfile\n",
        "import threading"
      ]
    },
    {
      "cell_type": "code",
      "execution_count": null,
      "metadata": {
        "id": "lpviiMdYPSNE"
      },
      "outputs": [],
      "source": [
        "#making sse list\n",
        "def gen_sse(image):\n",
        "  sse = []\n",
        "  for k in range(1, 11):\n",
        "    kmeans = KMeans(n_clusters=k)\n",
        "    all_pixels  = image.reshape((-1,3))\n",
        "    kmeans.fit(all_pixels)\n",
        "    sse.append(kmeans.inertia_)\n",
        "  kl = KneeLocator(range(1, 11), sse, curve=\"convex\", direction=\"decreasing\")\n",
        "  print(kl.elbow)"
      ]
    },
    {
      "cell_type": "code",
      "execution_count": null,
      "metadata": {
        "id": "vFUg2nklDCgZ"
      },
      "outputs": [],
      "source": [
        "# K-means clustering\n",
        "def cluster(image):\n",
        "  km = KMeans(n_clusters=dominant_colors)\n",
        "  all_pixels  = image.reshape((-1,3))\n",
        "  km.fit(all_pixels)\n",
        "\n",
        "  centers = np.array(km.cluster_centers_,dtype='uint8')\n",
        "  labels = km.labels_\n",
        "  return centers, labels"
      ]
    },
    {
      "cell_type": "code",
      "execution_count": null,
      "metadata": {
        "id": "TdjavWriZF8r"
      },
      "outputs": [],
      "source": [
        "def plotanalysis(image, imagepath, clusters, sse):\n",
        "  fig = plt.figure(dpi=100, tight_layout=True)\n",
        "  gs = fig.add_gridspec(2,3)\n",
        "\n",
        "  ax1 = fig.add_subplot(gs[0,0])\n",
        "  ax1.imshow(image)\n",
        "  plt.axis('off')\n",
        "\n",
        "  ax2 = fig.add_subplot(gs[0,1])\n",
        "  ax2.plot(range(1, 11), sse)\n",
        "  plt.xlabel(\"Number of Clusters\")\n",
        "  plt.ylabel(\"SSE\")\n",
        "\n",
        "  ax3 = np.zeros(3, dtype=object)\n",
        "  centers = np.append(clusters[0],np.array([255,255,255])).reshape(dominant_colors+1,3)\n",
        "  # plt.figure(0,figsize=(314, 180))\n",
        "  for j in range(0,dominant_colors):\n",
        "    labels_copy = clusters[1].copy()\n",
        "  #   plt.subplot(dominant_colors,1,j+1)\n",
        "  #   plt.axis(\"off\")\n",
        "    for i, el in enumerate(labels_copy):\n",
        "          if el != j:\n",
        "            labels_copy[i] = dominant_colors\n",
        "          # else:\n",
        "          #   labels_copy[i] = 1\n",
        "    ax3[j] = fig.add_subplot(gs[1,j])\n",
        "    ax3[j].imshow(centers[labels_copy].reshape(original_shape)) \n",
        "    plt.axis('off')\n",
        "  plt.savefig(path+f'{imagepath[-8:-4]}.jpg')\n"
      ]
    },
    {
      "cell_type": "code",
      "execution_count": null,
      "metadata": {
        "id": "zRxOLJ19CMKY"
      },
      "outputs": [],
      "source": [
        "def urbancluster(urbanlabels, labels):\n",
        "  labels_copy = labels.copy()\n",
        "  for i, label in enumerate(labels_copy):\n",
        "    labels_copy[i] = 1 if label in urbanlabels else 0\n",
        "  return labels_copy"
      ]
    },
    {
      "cell_type": "code",
      "execution_count": null,
      "metadata": {
        "id": "Pbrk0GlbNCsb"
      },
      "outputs": [],
      "source": [
        "path = '/content/gdrive/My Drive/kigaliimages/losres/'\n",
        "images = []\n",
        "for image in listdir(path):\n",
        "  if isfile(path+image): images.append(path+image) "
      ]
    },
    {
      "cell_type": "code",
      "execution_count": null,
      "metadata": {
        "colab": {
          "base_uri": "https://localhost:8080/"
        },
        "id": "XRyxgwAN9PGh",
        "outputId": "ed7801ad-aa16-41c3-e18d-8b8010ff54fd"
      },
      "outputs": [
        {
          "output_type": "stream",
          "name": "stdout",
          "text": [
            "hehe...code goes brrrr...\n",
            "0\n",
            "hehe...code goes brrrr...\n",
            "0\n",
            "hehe...code goes brrrr...\n",
            "0\n",
            "hehe...code goes brrrr...\n",
            "0\n",
            "hehe...code goes brrrr...\n",
            "0\n",
            "hehe...code goes brrrr...\n",
            "0\n",
            "hehe...code goes brrrr...\n",
            "0\n",
            "hehe...code goes brrrr...\n",
            "0\n"
          ]
        }
      ],
      "source": [
        "a = 0\n",
        "ts = []\n",
        "for img in images[25:]:\n",
        "# dominant_colors = 3\n",
        "  image = cv2.imread(images[a])\n",
        "  image = cv2.cvtColor(image, cv2.COLOR_BGR2RGB)\n",
        "  try:\n",
        "    t = threading.Thread(target=gen_sse, args = [image])\n",
        "    ts.append(t)\n",
        "    t.start()\n",
        "    a += 1 \n",
        "  except:\n",
        "    print(\"hehe...code goes brrrr...\")\n",
        "\n",
        "  print(a)\n",
        "for t in ts:\n",
        "  t.join()\n",
        "# original_shape = image.shape\n",
        "# #sse = gen_sse(image)\n",
        "# plotanalysis(image, images[0], cluster(image), sse)\n"
      ]
    },
    {
      "cell_type": "code",
      "execution_count": null,
      "metadata": {
        "colab": {
          "base_uri": "https://localhost:8080/"
        },
        "id": "9uD3s-FlPkzQ",
        "outputId": "a21fa0c6-b1bb-4fce-98d2-e4f1c078a10f"
      },
      "outputs": [
        {
          "data": {
            "text/plain": [
              "3"
            ]
          },
          "execution_count": 31,
          "metadata": {},
          "output_type": "execute_result"
        }
      ],
      "source": [
        "from kneed import KneeLocator\n",
        "\n",
        "kl = KneeLocator(range(1, 11), sse, curve=\"convex\", direction=\"decreasing\")\n",
        "\n",
        "kl.elbow"
      ]
    },
    {
      "cell_type": "code",
      "execution_count": null,
      "metadata": {
        "id": "nunpv9KoQyNX"
      },
      "outputs": [],
      "source": [
        "plt.imshow(image)\n",
        "# plt.style.use(\"fivethirtyeight\")\n",
        "# plt.plot(range(1, 11), sse)\n",
        "# plt.xticks(range(1, 11))\n",
        "# plt.xlabel(\"Number of Clusters\")\n",
        "# plt.ylabel(\"SSE\")\n",
        "# plt.show()"
      ]
    },
    {
      "cell_type": "code",
      "execution_count": null,
      "metadata": {
        "id": "-fVyBTdaDj2c"
      },
      "outputs": [],
      "source": [
        "# #Displaying dominant colors and modified image with only dominant colors\n",
        "# i = 1\n",
        "\n",
        "# plt.figure(0,figsize=(8,2))\n",
        "\n",
        "# # Storing info in color array\n",
        "# colors = []\n",
        "\n",
        "# for each_col in centers:\n",
        "#     plt.subplot(1,dominant_colors,i)\n",
        "#     plt.axis(\"off\")\n",
        "#     i+=1\n",
        "    \n",
        "#     colors.append(each_col)\n",
        "    \n",
        "#     # Color Swatch\n",
        "#     a = np.zeros((100,100,3),dtype='uint8')\n",
        "#     a[:,:,:] = each_col\n",
        "#     plt.imshow(a)\n",
        "    \n",
        "# plt.show()\n",
        "# # Iterate over the image\n",
        "# plt.imshow(centers[labels].reshape(original_shape))"
      ]
    }
  ],
  "metadata": {
    "colab": {
      "collapsed_sections": [],
      "name": "Untitled0.ipynb",
      "provenance": []
    },
    "kernelspec": {
      "display_name": "Python 3",
      "name": "python3"
    },
    "language_info": {
      "name": "python"
    }
  },
  "nbformat": 4,
  "nbformat_minor": 0
}